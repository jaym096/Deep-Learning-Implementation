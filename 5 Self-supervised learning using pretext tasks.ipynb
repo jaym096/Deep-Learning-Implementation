{
 "cells": [
  {
   "cell_type": "markdown",
   "metadata": {
    "id": "Zh2MlYgA9c5a"
   },
   "source": [
    "## **Part 1: Pretext Tasks**"
   ]
  },
  {
   "cell_type": "code",
   "execution_count": 1,
   "metadata": {
    "id": "2Tf9JIRNMWH9"
   },
   "outputs": [],
   "source": [
    "import numpy as np\n",
    "import torch\n",
    "import copy\n",
    "import matplotlib.pyplot as plt\n",
    "import torchvision\n",
    "from torch import nn, optim\n",
    "import torch.nn.functional as F\n",
    "import torch.utils.data as utils\n",
    "from torchvision.datasets import CIFAR10"
   ]
  },
  {
   "cell_type": "code",
   "execution_count": 2,
   "metadata": {
    "id": "H4PSJSKSTtlz"
   },
   "outputs": [],
   "source": [
    "class Classifier1(nn.Module):\n",
    "  def __init__(self, out=10):\n",
    "    super(Classifier1, self).__init__()\n",
    "    self.conv1 = nn.Conv2d(in_channels=3, out_channels=10, kernel_size=(5,5), stride=1)\n",
    "    self.conv2 = nn.Conv2d(in_channels=10, out_channels=10, kernel_size=(5,5), stride=1)\n",
    "    self.pool = nn.MaxPool2d(kernel_size=(2,2), stride=2)\n",
    "    self.fc = nn.Linear(250, 20)\n",
    "    self.out = nn.Linear(20, out)\n",
    "\n",
    "  def forward(self, x):\n",
    "    x = self.pool(F.relu(self.conv1(x)))\n",
    "    x = self.pool(F.relu(self.conv2(x)))\n",
    "    x = x.view(x.size(0), -1)\n",
    "    x = F.relu(self.fc(x))\n",
    "    return self.out(x)\n",
    "\n",
    "def init_weights(layer):\n",
    "  if isinstance(layer, nn.Linear):\n",
    "    nn.init.kaiming_normal_(layer.weight.data)\n",
    "    nn.init.zeros_(layer.bias.data)"
   ]
  },
  {
   "cell_type": "code",
   "execution_count": 3,
   "metadata": {
    "colab": {
     "base_uri": "https://localhost:8080/",
     "height": 134
    },
    "id": "Zyhf-32fT1NY",
    "outputId": "02aba830-e4b7-4e20-c044-606fc9820226"
   },
   "outputs": [
    {
     "name": "stdout",
     "output_type": "stream",
     "text": [
      "(50000,)\n",
      "checking the range of the values of pixel in images:\n",
      "-1.0 1.0\n",
      "shape of the new training data:\n",
      "(500, 32, 32, 3) (500,)\n",
      "shape of the remaining data:\n",
      "(49500, 32, 32, 3)\n"
     ]
    }
   ],
   "source": [
    "dataset = CIFAR10(root='/content/drive/My Drive/Colab Notebooks/CIFAR/', download=False, train=True)\n",
    "\n",
    "original = dataset.data\n",
    "original = original / 255\n",
    "\n",
    "labels = np.array(dataset.targets)\n",
    "print(labels.shape)\n",
    "\n",
    "del dataset\n",
    "\n",
    "train_images = []\n",
    "train_labels = []\n",
    "original_data = []\n",
    "for i in range(10):\n",
    "  train_labels.append(labels[labels == i][-50:])\n",
    "  train_images.append(original[labels == i][-50:])\n",
    "  original_data.append(original[labels == i][:-50])\n",
    "\n",
    "train_images, train_labels = np.asarray(train_images), np.asarray(train_labels)\n",
    "train_images = (train_images - 0.5) / 0.5\n",
    "train_images = train_images.reshape((500, 32, 32, 3))\n",
    "\n",
    "train_labels = train_labels.reshape((500,))\n",
    "\n",
    "original_data = np.asarray(original_data)\n",
    "original_data = original_data.reshape((49500, 32, 32, 3))\n",
    "\n",
    "del original\n",
    "\n",
    "print(\"checking the range of the values of pixel in images:\")\n",
    "print(np.min(train_images), np.max(train_images))\n",
    "\n",
    "print(\"shape of the new training data:\")\n",
    "print(train_images.shape, train_labels.shape)\n",
    "\n",
    "print(\"shape of the remaining data:\")\n",
    "print(original_data.shape)"
   ]
  },
  {
   "cell_type": "markdown",
   "metadata": {
    "id": "liP5XOntwwA1"
   },
   "source": [
    "I have used the dataset available from the PyTorch library. Since I had the data downloaded already, my *'download'* parameter is *False*"
   ]
  },
  {
   "cell_type": "code",
   "execution_count": 4,
   "metadata": {
    "id": "sR9AneVZlIuV"
   },
   "outputs": [],
   "source": [
    "# class 0\n",
    "labels_0 = np.zeros((49500,))"
   ]
  },
  {
   "cell_type": "code",
   "execution_count": 5,
   "metadata": {
    "colab": {
     "base_uri": "https://localhost:8080/",
     "height": 190
    },
    "id": "QTQDr8vvmNH4",
    "outputId": "153b096f-2c9b-496c-bc80-618e040f0d5f"
   },
   "outputs": [
    {
     "data": {
      "text/plain": [
       "Text(0.5, 1.0, 'Flipped Images')"
      ]
     },
     "execution_count": 5,
     "metadata": {
      "tags": []
     },
     "output_type": "execute_result"
    },
    {
     "data": {
      "image/png": "[encoded data removed]",
      "text/plain": [
       "<Figure size 504x144 with 2 Axes>"
      ]
     },
     "metadata": {
      "needs_background": "light",
      "tags": []
     },
     "output_type": "display_data"
    }
   ],
   "source": [
    "# class 1\n",
    "def flipHor(data):\n",
    "  return np.flip(data, axis=1)\n",
    "\n",
    "images_1 = flipHor(original_data)\n",
    "labels_1 = np.ones_like(labels_0)\n",
    "\n",
    "f, (ax1, ax2) = plt.subplots(1, 2, figsize=(7,2))\n",
    "ax1.imshow(original_data[0])\n",
    "ax1.set_title(\"Original Images\")\n",
    "ax2.imshow(images_1[0])\n",
    "ax2.set_title(\"Flipped Images\")"
   ]
  },
  {
   "cell_type": "code",
   "execution_count": 6,
   "metadata": {
    "colab": {
     "base_uri": "https://localhost:8080/",
     "height": 190
    },
    "id": "wg3leRRxnTtT",
    "outputId": "801e3ab0-876f-4446-da23-75f2f7ea77a0"
   },
   "outputs": [
    {
     "data": {
      "text/plain": [
       "Text(0.5, 1.0, 'Flipped Images')"
      ]
     },
     "execution_count": 6,
     "metadata": {
      "tags": []
     },
     "output_type": "execute_result"
    },
    {
     "data": {
      "image/png": "[encoded data removed]",
      "text/plain": [
       "<Figure size 504x144 with 2 Axes>"
      ]
     },
     "metadata": {
      "needs_background": "light",
      "tags": []
     },
     "output_type": "display_data"
    }
   ],
   "source": [
    "# class 2\n",
    "def rotate(data):\n",
    "  return np.rot90(data, k=1, axes=(1, 2))\n",
    "\n",
    "images_2 = rotate(original_data)\n",
    "labels_2 = np.ones_like(labels_0) + 1\n",
    "\n",
    "f, (ax1, ax2) = plt.subplots(1, 2, figsize=(7,2))\n",
    "ax1.set_title(\"Original Images\")\n",
    "ax1.imshow(original_data[1])\n",
    "ax2.imshow(images_2[1])\n",
    "ax2.set_title(\"Flipped Images\")"
   ]
  },
  {
   "cell_type": "code",
   "execution_count": 7,
   "metadata": {
    "id": "Qg_axkRmrnB-"
   },
   "outputs": [],
   "source": [
    "# Create one big dataset\n",
    "del images_1, images_2\n",
    "\n",
    "augmented_data = np.concatenate((original_data, flipHor(original_data), rotate(original_data)))\n",
    "augmented_data = (augmented_data - 0.5) / 0.5"
   ]
  },
  {
   "cell_type": "code",
   "execution_count": 8,
   "metadata": {
    "colab": {
     "base_uri": "https://localhost:8080/",
     "height": 134
    },
    "id": "ehHkiM0jTvej",
    "outputId": "2376aa7f-1162-4f4a-c66a-bca9b9c6ba7a"
   },
   "outputs": [
    {
     "name": "stdout",
     "output_type": "stream",
     "text": [
      "Classifier1(\n",
      "  (conv1): Conv2d(3, 10, kernel_size=(5, 5), stride=(1, 1))\n",
      "  (conv2): Conv2d(10, 10, kernel_size=(5, 5), stride=(1, 1))\n",
      "  (pool): MaxPool2d(kernel_size=(2, 2), stride=2, padding=0, dilation=1, ceil_mode=False)\n",
      "  (fc): Linear(in_features=250, out_features=20, bias=True)\n",
      "  (out): Linear(in_features=20, out_features=3, bias=True)\n",
      ")\n"
     ]
    }
   ],
   "source": [
    "device = torch.device(\"cuda:0\" if torch.cuda.is_available() else \"cpu\")\n",
    "\n",
    "net = Classifier1(3)\n",
    "net.apply(init_weights)\n",
    "net.to(device)\n",
    "\n",
    "print(net)\n",
    "\n",
    "err_func = nn.CrossEntropyLoss()\n",
    "optimizer = optim.Adam(net.parameters())"
   ]
  },
  {
   "cell_type": "code",
   "execution_count": 9,
   "metadata": {
    "id": "jZiqhF-9sGy_"
   },
   "outputs": [],
   "source": [
    "# Data loader for augmented data\n",
    "aug_loader = torch.utils.data.DataLoader(utils.TensorDataset(torch.Tensor(augmented_data).permute((0, 3, 2, 1)).to(device), \n",
    "                                                               torch.tensor(np.concatenate((labels_0, labels_1, labels_2)), dtype=torch.long).to(device)), batch_size=512, shuffle=True)\n",
    "\n",
    "del labels_1, labels_2, labels_0"
   ]
  },
  {
   "cell_type": "code",
   "execution_count": 10,
   "metadata": {
    "colab": {
     "base_uri": "https://localhost:8080/",
     "height": 353
    },
    "id": "uF3dENqatDbg",
    "outputId": "6c79c153-8ff8-4fb2-9d6b-a83708c3ab35"
   },
   "outputs": [
    {
     "name": "stdout",
     "output_type": "stream",
     "text": [
      "EPOCH:  10\n",
      "   Overall Training loss for epoch 10: 0.001311662094360249\n",
      "EPOCH:  20\n",
      "   Overall Training loss for epoch 20: 0.0012109674287564827\n",
      "EPOCH:  30\n",
      "   Overall Training loss for epoch 30: 0.0011614132232537575\n",
      "EPOCH:  40\n",
      "   Overall Training loss for epoch 40: 0.0011291170654072103\n",
      "EPOCH:  50\n",
      "   Overall Training loss for epoch 50: 0.0011084174574023545\n",
      "EPOCH:  60\n",
      "   Overall Training loss for epoch 60: 0.0010901944785808473\n",
      "EPOCH:  70\n",
      "   Overall Training loss for epoch 70: 0.001077479645660028\n",
      "EPOCH:  80\n",
      "   Overall Training loss for epoch 80: 0.0010685056979808742\n",
      "EPOCH:  90\n",
      "   Overall Training loss for epoch 90: 0.0010611175364918179\n",
      "EPOCH:  100\n",
      "   Overall Training loss for epoch 100: 0.0010531718923587991\n"
     ]
    }
   ],
   "source": [
    "# Training the network\n",
    "epochs = 100\n",
    "\n",
    "for e in range(1, epochs+1):\n",
    "  train_loss_epoch = 0\n",
    "  for row, target in aug_loader:\n",
    "    # set the gradients to zero as PyTorch automatically accumulates gradients\n",
    "    optimizer.zero_grad()\n",
    "\n",
    "    outs = net(row)\n",
    "\n",
    "    # calculate loss\n",
    "    loss = err_func(outs, target)\n",
    "    \n",
    "    # Calculate gradients\n",
    "    loss.backward()\n",
    "    \n",
    "    # Propagate gradients back\n",
    "    optimizer.step()\n",
    "    \n",
    "    train_loss_epoch += loss.item()\n",
    "  else:\n",
    "    err = train_loss_epoch/len(augmented_data)\n",
    "    if e%10 == 0:\n",
    "      print(\"EPOCH: \", e)\n",
    "      print(f\"   Overall Training loss for epoch {e}: {err}\")"
   ]
  },
  {
   "cell_type": "code",
   "execution_count": 11,
   "metadata": {
    "id": "iwXBGFbV9Seg"
   },
   "outputs": [],
   "source": [
    "torch.save(net.state_dict(), 'pretext.pt')"
   ]
  },
  {
   "cell_type": "markdown",
   "metadata": {
    "id": "J5RCx6sY9kIH"
   },
   "source": [
    "## **Part 2: The Baseline**"
   ]
  },
  {
   "cell_type": "code",
   "execution_count": 12,
   "metadata": {
    "colab": {
     "base_uri": "https://localhost:8080/",
     "height": 134
    },
    "id": "271KyIGc9i1f",
    "outputId": "7a0db53f-1d9b-44d8-df5a-0f0404812cc6"
   },
   "outputs": [
    {
     "name": "stdout",
     "output_type": "stream",
     "text": [
      "Classifier1(\n",
      "  (conv1): Conv2d(3, 10, kernel_size=(5, 5), stride=(1, 1))\n",
      "  (conv2): Conv2d(10, 10, kernel_size=(5, 5), stride=(1, 1))\n",
      "  (pool): MaxPool2d(kernel_size=(2, 2), stride=2, padding=0, dilation=1, ceil_mode=False)\n",
      "  (fc): Linear(in_features=250, out_features=20, bias=True)\n",
      "  (out): Linear(in_features=20, out_features=10, bias=True)\n",
      ")\n"
     ]
    }
   ],
   "source": [
    "device = torch.device(\"cuda:0\" if torch.cuda.is_available() else \"cpu\")\n",
    "\n",
    "net = Classifier1().to(device)\n",
    "net.apply(init_weights)\n",
    "\n",
    "print(net)\n",
    "\n",
    "err_func = nn.CrossEntropyLoss()\n",
    "optimizer = optim.Adam(net.parameters())"
   ]
  },
  {
   "cell_type": "code",
   "execution_count": 13,
   "metadata": {
    "id": "x2EJICw392mh"
   },
   "outputs": [],
   "source": [
    "trainer = utils.DataLoader(utils.TensorDataset(torch.Tensor(train_images).permute((0, 3, 2, 1)).to(device), \n",
    "                                               torch.tensor(train_labels, dtype=torch.long).to(device)), batch_size=512, shuffle=True)"
   ]
  },
  {
   "cell_type": "code",
   "execution_count": 14,
   "metadata": {
    "id": "siBPKf7z--4S"
   },
   "outputs": [],
   "source": [
    "dataset = CIFAR10(root='/content/drive/My Drive/Colab Notebooks/CIFAR/', download=False, train=False)\n",
    "\n",
    "test_data = dataset.data / 255\n",
    "test_data = (test_data - 0.5) / 0.5\n",
    "\n",
    "test_labels = np.array(dataset.targets)\n",
    "\n",
    "test_loader = utils.DataLoader(utils.TensorDataset(torch.Tensor(test_data).permute((0, 3, 2, 1)).to(device), \n",
    "                                               torch.tensor(test_labels, dtype=torch.long).to(device)), batch_size=512, shuffle=False)\n",
    "\n",
    "test_n = len(test_data)\n",
    "\n",
    "del dataset, test_labels, test_data"
   ]
  },
  {
   "cell_type": "code",
   "execution_count": 15,
   "metadata": {
    "colab": {
     "base_uri": "https://localhost:8080/",
     "height": 1000
    },
    "id": "NPhF5UvxATI6",
    "outputId": "2de82ab6-5163-4101-82c3-15b2cf58cf0a"
   },
   "outputs": [
    {
     "name": "stdout",
     "output_type": "stream",
     "text": [
      "EPOCH:100  |       accuracy:33.86  |         train_loss:0.5603975653648376\n",
      "EPOCH:200  |       accuracy:32.13  |         train_loss:0.028788011521100998\n",
      "EPOCH:300  |       accuracy:32.04  |         train_loss:0.006609014235436916\n",
      "EPOCH:400  |       accuracy:31.94  |         train_loss:0.002960699377581477\n",
      "EPOCH:500  |       accuracy:32.02  |         train_loss:0.0016969479620456696\n",
      "EPOCH:600  |       accuracy:32.03  |         train_loss:0.001104719121940434\n",
      "EPOCH:700  |       accuracy:31.98  |         train_loss:0.0007773861871100962\n",
      "EPOCH:800  |       accuracy:31.9  |         train_loss:0.0005768202827312052\n",
      "EPOCH:900  |       accuracy:31.92  |         train_loss:0.0004446880775503814\n",
      "EPOCH:1000  |       accuracy:32.01  |         train_loss:0.00035280667361803353\n",
      "EPOCH:1100  |       accuracy:31.98  |         train_loss:0.00028637060313485563\n",
      "EPOCH:1200  |       accuracy:32.05  |         train_loss:0.00023674400290474296\n",
      "EPOCH:1300  |       accuracy:32.04  |         train_loss:0.00019862549379467964\n",
      "EPOCH:1400  |       accuracy:32.02  |         train_loss:0.00016871013212949038\n",
      "EPOCH:1500  |       accuracy:32.04  |         train_loss:0.00014470962923951447\n",
      "EPOCH:1600  |       accuracy:31.97  |         train_loss:0.00012526159116532654\n",
      "EPOCH:1700  |       accuracy:32.0  |         train_loss:0.00010929496784228832\n",
      "EPOCH:1800  |       accuracy:31.97  |         train_loss:9.602476347936317e-05\n",
      "EPOCH:1900  |       accuracy:31.95  |         train_loss:8.486802107654512e-05\n",
      "EPOCH:2000  |       accuracy:31.96  |         train_loss:7.540080696344376e-05\n",
      "EPOCH:2100  |       accuracy:31.96  |         train_loss:6.730119639541954e-05\n",
      "EPOCH:2200  |       accuracy:31.94  |         train_loss:6.0323975048959255e-05\n",
      "EPOCH:2300  |       accuracy:31.94  |         train_loss:5.427636642707512e-05\n",
      "EPOCH:2400  |       accuracy:31.95  |         train_loss:4.900723433820531e-05\n",
      "EPOCH:2500  |       accuracy:31.96  |         train_loss:4.4385295041138306e-05\n",
      "EPOCH:2600  |       accuracy:31.99  |         train_loss:4.0322083805222064e-05\n",
      "EPOCH:2700  |       accuracy:32.01  |         train_loss:3.6720852222060785e-05\n",
      "EPOCH:2800  |       accuracy:32.0  |         train_loss:3.3525837352499366e-05\n",
      "EPOCH:2900  |       accuracy:31.98  |         train_loss:3.067051147809252e-05\n",
      "EPOCH:3000  |       accuracy:31.97  |         train_loss:2.8115078748669475e-05\n",
      "EPOCH:3100  |       accuracy:31.97  |         train_loss:2.5824494514381513e-05\n",
      "EPOCH:3200  |       accuracy:31.96  |         train_loss:2.3754666472086683e-05\n",
      "EPOCH:3300  |       accuracy:31.96  |         train_loss:2.1875071979593486e-05\n",
      "EPOCH:3400  |       accuracy:31.93  |         train_loss:2.01771326828748e-05\n",
      "EPOCH:3500  |       accuracy:31.95  |         train_loss:1.863487523223739e-05\n",
      "EPOCH:3600  |       accuracy:31.97  |         train_loss:1.7224929251824506e-05\n",
      "EPOCH:3700  |       accuracy:31.98  |         train_loss:1.5943474863888696e-05\n",
      "EPOCH:3800  |       accuracy:31.95  |         train_loss:1.4770497728022747e-05\n",
      "EPOCH:3900  |       accuracy:31.92  |         train_loss:1.3688828403246589e-05\n",
      "EPOCH:4000  |       accuracy:31.95  |         train_loss:1.2672956472670194e-05\n",
      "EPOCH:4100  |       accuracy:31.93  |         train_loss:1.1712394552887417e-05\n",
      "EPOCH:4200  |       accuracy:31.94  |         train_loss:1.0846958502952475e-05\n",
      "EPOCH:4300  |       accuracy:31.94  |         train_loss:1.0054949598270468e-05\n",
      "EPOCH:4400  |       accuracy:31.96  |         train_loss:9.329219210485462e-06\n",
      "EPOCH:4500  |       accuracy:31.95  |         train_loss:8.661660103825852e-06\n",
      "EPOCH:4600  |       accuracy:31.95  |         train_loss:8.051081749727018e-06\n",
      "EPOCH:4700  |       accuracy:31.94  |         train_loss:7.480794465664076e-06\n",
      "EPOCH:4800  |       accuracy:31.92  |         train_loss:6.9534230533463415e-06\n",
      "EPOCH:4900  |       accuracy:31.95  |         train_loss:6.472539553215029e-06\n",
      "EPOCH:5000  |       accuracy:31.97  |         train_loss:6.025988113833591e-06\n",
      "EPOCH:5100  |       accuracy:31.99  |         train_loss:5.613290340988897e-06\n",
      "EPOCH:5200  |       accuracy:32.0  |         train_loss:5.231824616203085e-06\n",
      "EPOCH:5300  |       accuracy:31.97  |         train_loss:4.879445896222023e-06\n",
      "EPOCH:5400  |       accuracy:31.94  |         train_loss:4.55448525826796e-06\n",
      "EPOCH:5500  |       accuracy:31.95  |         train_loss:4.248121513228398e-06\n",
      "EPOCH:5600  |       accuracy:31.98  |         train_loss:3.967266366089461e-06\n",
      "EPOCH:5700  |       accuracy:31.98  |         train_loss:3.707393034346751e-06\n",
      "EPOCH:5800  |       accuracy:31.96  |         train_loss:3.4651609439606545e-06\n",
      "EPOCH:5900  |       accuracy:31.94  |         train_loss:3.2403343084297376e-06\n",
      "EPOCH:6000  |       accuracy:31.97  |         train_loss:3.035296458619996e-06\n",
      "EPOCH:6100  |       accuracy:31.97  |         train_loss:2.8371712232910795e-06\n",
      "EPOCH:6200  |       accuracy:31.95  |         train_loss:2.652636567290756e-06\n",
      "EPOCH:6300  |       accuracy:31.95  |         train_loss:2.4840760488586966e-06\n",
      "EPOCH:6400  |       accuracy:31.99  |         train_loss:2.3236209472088376e-06\n",
      "EPOCH:6500  |       accuracy:31.99  |         train_loss:2.176040652557276e-06\n",
      "EPOCH:6600  |       accuracy:31.98  |         train_loss:2.037281774391886e-06\n",
      "EPOCH:6700  |       accuracy:31.97  |         train_loss:1.9102051282970933e-06\n",
      "EPOCH:6800  |       accuracy:31.95  |         train_loss:1.791950239748985e-06\n",
      "EPOCH:6900  |       accuracy:31.94  |         train_loss:1.6772713706814102e-06\n",
      "EPOCH:7000  |       accuracy:31.97  |         train_loss:1.5754667401779443e-06\n",
      "EPOCH:7100  |       accuracy:31.96  |         train_loss:1.4793847640248714e-06\n",
      "EPOCH:7200  |       accuracy:31.94  |         train_loss:1.388785904055112e-06\n",
      "EPOCH:7300  |       accuracy:31.95  |         train_loss:1.3051013638687436e-06\n",
      "EPOCH:7400  |       accuracy:31.95  |         train_loss:1.2218936262797797e-06\n",
      "EPOCH:7500  |       accuracy:31.94  |         train_loss:1.1489374855955248e-06\n",
      "EPOCH:7600  |       accuracy:31.93  |         train_loss:1.0821805744853918e-06\n",
      "EPOCH:7700  |       accuracy:31.97  |         train_loss:1.0151850347028812e-06\n",
      "EPOCH:7800  |       accuracy:31.95  |         train_loss:9.520043136035383e-07\n",
      "EPOCH:7900  |       accuracy:31.95  |         train_loss:8.952609391599253e-07\n",
      "EPOCH:8000  |       accuracy:31.94  |         train_loss:8.432857043771946e-07\n",
      "EPOCH:8100  |       accuracy:31.95  |         train_loss:7.934563654998783e-07\n",
      "EPOCH:8200  |       accuracy:31.92  |         train_loss:7.452960062437342e-07\n",
      "EPOCH:8300  |       accuracy:31.93  |         train_loss:7.019038434918912e-07\n",
      "EPOCH:8400  |       accuracy:31.92  |         train_loss:6.589885401808715e-07\n",
      "EPOCH:8500  |       accuracy:31.91  |         train_loss:6.239409913177951e-07\n",
      "EPOCH:8600  |       accuracy:31.93  |         train_loss:5.846021053912409e-07\n",
      "EPOCH:8700  |       accuracy:31.93  |         train_loss:5.505082185663923e-07\n",
      "EPOCH:8800  |       accuracy:31.95  |         train_loss:5.199906922825903e-07\n",
      "EPOCH:8900  |       accuracy:31.92  |         train_loss:4.882811026618583e-07\n",
      "EPOCH:9000  |       accuracy:31.89  |         train_loss:4.591940125919791e-07\n",
      "EPOCH:9100  |       accuracy:31.88  |         train_loss:4.317759021432721e-07\n",
      "EPOCH:9200  |       accuracy:31.9  |         train_loss:4.0650357391314174e-07\n",
      "EPOCH:9300  |       accuracy:31.92  |         train_loss:3.8409220337598526e-07\n",
      "EPOCH:9400  |       accuracy:31.91  |         train_loss:3.619193194026593e-07\n",
      "EPOCH:9500  |       accuracy:31.91  |         train_loss:3.395080057089217e-07\n",
      "EPOCH:9600  |       accuracy:31.93  |         train_loss:3.1828872693040466e-07\n",
      "EPOCH:9700  |       accuracy:31.94  |         train_loss:3.0159941388774314e-07\n",
      "EPOCH:9800  |       accuracy:31.96  |         train_loss:2.8657905204454437e-07\n",
      "EPOCH:9900  |       accuracy:31.95  |         train_loss:2.694129364044784e-07\n",
      "EPOCH:10000  |       accuracy:31.95  |         train_loss:2.532005112243496e-07\n"
     ]
    }
   ],
   "source": [
    "# Training the network\n",
    "epochs = 10000\n",
    "val_acc_base = []\n",
    "for e in range(1, epochs+1):\n",
    "  train_loss_epoch = 0\n",
    "  val_loss = 0\n",
    "  correct = 0\n",
    "  net.train()\n",
    "  for row, target in trainer:\n",
    "    # set the gradients to zero as PyTorch automatically accumulates gradients\n",
    "    optimizer.zero_grad()\n",
    "    outs = net(row)\n",
    "\n",
    "    # calculate loss\n",
    "    loss = err_func(outs, target)\n",
    "    \n",
    "    # Calculate gradients\n",
    "    loss.backward()\n",
    "    \n",
    "    # Propagate gradients back\n",
    "    optimizer.step()\n",
    "    \n",
    "    train_loss_epoch += loss.item()\n",
    "  if e%100 == 0:\n",
    "    net.eval()\n",
    "    with torch.no_grad():\n",
    "      for data, target in test_loader:\n",
    "\n",
    "          output = net(data)\n",
    "          val_loss += err_func(output, target).item()\n",
    "\n",
    "          # prediction will be the class with highest probability\n",
    "          pred = output.data.max(1, keepdim=True)[1]\n",
    "          correct += pred.eq(target.view_as(pred)).sum()\n",
    "\n",
    "    acc = 100 * torch.true_divide(correct, test_n)\n",
    "    val_acc_base.append(acc.item())\n",
    "    err = train_loss_epoch/len(trainer)\n",
    "    \n",
    "    print(\"EPOCH:{eps}  |       accuracy:{acc}  |         train_loss:{ls}\".format(eps = e, acc = round(acc.item(), 4), ls=err))\n",
    "\n",
    "import pickle\n",
    "pickle.dump(val_acc_base, open(\"val_acc_base.pkl\", \"wb\" ) )"
   ]
  },
  {
   "cell_type": "code",
   "execution_count": 24,
   "metadata": {
    "colab": {
     "base_uri": "https://localhost:8080/",
     "height": 546
    },
    "id": "tcqKG5fJ0eRP",
    "outputId": "05eefc1f-5cdb-43e6-9840-0e4723235bb4"
   },
   "outputs": [
    {
     "name": "stderr",
     "output_type": "stream",
     "text": [
      "No handles with labels found to put in legend.\n"
     ]
    },
    {
     "data": {
      "text/plain": [
       "<function matplotlib.pyplot.show>"
      ]
     },
     "execution_count": 24,
     "metadata": {
      "tags": []
     },
     "output_type": "execute_result"
    },
    {
     "data": {
      "image/png": "[encoded data removed]",
      "text/plain": [
       "<Figure size 1080x576 with 1 Axes>"
      ]
     },
     "metadata": {
      "needs_background": "light",
      "tags": []
     },
     "output_type": "display_data"
    }
   ],
   "source": [
    "eps = np.arange(1, 10001, 100)\n",
    "fig = plt.figure(figsize=(15,8))\n",
    "plt.plot(eps, val_acc_base)\n",
    "plt.title(\"Baseline accuracy\")\n",
    "plt.ylabel(\"Accuracy\")\n",
    "plt.xlabel(\"Epochs\")\n",
    "plt.grid(True)\n",
    "plt.legend()\n",
    "plt.show"
   ]
  },
  {
   "cell_type": "markdown",
   "metadata": {
    "id": "uKgKI5-AH8dM"
   },
   "source": [
    "## Part 3: Transfer Learning"
   ]
  },
  {
   "cell_type": "code",
   "execution_count": 16,
   "metadata": {
    "colab": {
     "base_uri": "https://localhost:8080/",
     "height": 34
    },
    "id": "jYmUNxq0M1ye",
    "outputId": "4e9cce83-9f8c-47df-cd41-8ed32bf12f9e"
   },
   "outputs": [
    {
     "data": {
      "text/plain": [
       "odict_keys(['conv1.weight', 'conv1.bias', 'conv2.weight', 'conv2.bias', 'fc.weight', 'fc.bias', 'out.weight', 'out.bias'])"
      ]
     },
     "execution_count": 16,
     "metadata": {
      "tags": []
     },
     "output_type": "execute_result"
    }
   ],
   "source": [
    "pretext = torch.load('pretext.pt')\n",
    "pretext.keys()"
   ]
  },
  {
   "cell_type": "code",
   "execution_count": 17,
   "metadata": {
    "id": "iTuVBEEGNxNp"
   },
   "outputs": [],
   "source": [
    "class Classifier3(nn.Module):\n",
    "  def __init__(self):\n",
    "    super(Classifier3, self).__init__()\n",
    "    self.conv1 = nn.Conv2d(in_channels=3, out_channels=10, kernel_size=(5,5), stride=1)\n",
    "    self.conv1.weight, self.conv1.bias = nn.Parameter(pretext['conv1.weight']), nn.Parameter(pretext['conv1.bias'])\n",
    "\n",
    "    self.conv2 = nn.Conv2d(in_channels=10, out_channels=10, kernel_size=(5,5), stride=1)\n",
    "    self.conv2.weight, self.conv2.bias = nn.Parameter(pretext['conv2.weight']), nn.Parameter(pretext['conv2.bias'])\n",
    "\n",
    "    self.pool = nn.MaxPool2d(kernel_size=(2,2), stride=2)\n",
    "\n",
    "    self.fc = nn.Linear(250, 20)\n",
    "    self.fc.weight, self.fc.bias = nn.Parameter(pretext['fc.weight']), nn.Parameter(pretext['fc.bias'])\n",
    "\n",
    "    self.out = nn.Linear(20, 10)\n",
    "    nn.init.kaiming_normal_(self.out.weight)\n",
    "\n",
    "  def forward(self, x):\n",
    "    x = self.pool(F.relu(self.conv1(x)))\n",
    "    x = self.pool(F.relu(self.conv2(x)))\n",
    "    x = x.view(x.size(0), -1)\n",
    "    x = F.relu(self.fc(x))\n",
    "    x = self.out(x)\n",
    "    return x"
   ]
  },
  {
   "cell_type": "code",
   "execution_count": 18,
   "metadata": {
    "colab": {
     "base_uri": "https://localhost:8080/",
     "height": 134
    },
    "id": "Hcy-cAIPMc0A",
    "outputId": "24724162-0f4e-40a6-e822-70fb14bbbd3b"
   },
   "outputs": [
    {
     "name": "stdout",
     "output_type": "stream",
     "text": [
      "Classifier3(\n",
      "  (conv1): Conv2d(3, 10, kernel_size=(5, 5), stride=(1, 1))\n",
      "  (conv2): Conv2d(10, 10, kernel_size=(5, 5), stride=(1, 1))\n",
      "  (pool): MaxPool2d(kernel_size=(2, 2), stride=2, padding=0, dilation=1, ceil_mode=False)\n",
      "  (fc): Linear(in_features=250, out_features=20, bias=True)\n",
      "  (out): Linear(in_features=20, out_features=10, bias=True)\n",
      ")\n"
     ]
    }
   ],
   "source": [
    "device = torch.device(\"cuda:0\" if torch.cuda.is_available() else \"cpu\")\n",
    "\n",
    "final_net = Classifier3().to(device)\n",
    "print(final_net)\n",
    "final_net.train()\n",
    "\n",
    "err_func = nn.CrossEntropyLoss()\n",
    "optimizer = optim.Adam(final_net.parameters())\n",
    "\n",
    "optimizer = optim.Adam([{'params': final_net.conv1.parameters(), 'lr': 1e-5},\n",
    "                        {'params': final_net.conv2.parameters(), 'lr': 1e-5},\n",
    "                        {'params': final_net.fc.parameters(), 'lr': 1e-5},\n",
    "                        {'params': final_net.out.parameters()}])"
   ]
  },
  {
   "cell_type": "code",
   "execution_count": 19,
   "metadata": {
    "colab": {
     "base_uri": "https://localhost:8080/",
     "height": 1000
    },
    "id": "b5aMl9MLQHW-",
    "outputId": "5ec585f5-5f07-456c-fe37-61eba1b428d1"
   },
   "outputs": [
    {
     "name": "stdout",
     "output_type": "stream",
     "text": [
      "EPOCH:100  |       accuracy:14.89  |         train_loss:2.656346082687378\n",
      "EPOCH:200  |       accuracy:20.29  |         train_loss:2.2088444232940674\n",
      "EPOCH:300  |       accuracy:24.36  |         train_loss:1.9636163711547852\n",
      "EPOCH:400  |       accuracy:26.92  |         train_loss:1.8093794584274292\n",
      "EPOCH:500  |       accuracy:29.11  |         train_loss:1.700170874595642\n",
      "EPOCH:600  |       accuracy:30.53  |         train_loss:1.6171190738677979\n",
      "EPOCH:700  |       accuracy:31.72  |         train_loss:1.5499262809753418\n",
      "EPOCH:800  |       accuracy:32.59  |         train_loss:1.4922658205032349\n",
      "EPOCH:900  |       accuracy:33.16  |         train_loss:1.4423142671585083\n",
      "EPOCH:1000  |       accuracy:33.46  |         train_loss:1.3977539539337158\n",
      "EPOCH:1100  |       accuracy:33.56  |         train_loss:1.35591459274292\n",
      "EPOCH:1200  |       accuracy:34.03  |         train_loss:1.3159003257751465\n",
      "EPOCH:1300  |       accuracy:34.27  |         train_loss:1.2785204648971558\n",
      "EPOCH:1400  |       accuracy:34.33  |         train_loss:1.241597294807434\n",
      "EPOCH:1500  |       accuracy:34.48  |         train_loss:1.205604910850525\n",
      "EPOCH:1600  |       accuracy:34.46  |         train_loss:1.1693871021270752\n",
      "EPOCH:1700  |       accuracy:34.51  |         train_loss:1.1328562498092651\n",
      "EPOCH:1800  |       accuracy:34.42  |         train_loss:1.0969479084014893\n",
      "EPOCH:1900  |       accuracy:34.2  |         train_loss:1.0608923435211182\n",
      "EPOCH:2000  |       accuracy:34.09  |         train_loss:1.0249024629592896\n",
      "EPOCH:2100  |       accuracy:34.14  |         train_loss:0.9889411330223083\n",
      "EPOCH:2200  |       accuracy:34.09  |         train_loss:0.9528701901435852\n",
      "EPOCH:2300  |       accuracy:34.19  |         train_loss:0.9167038202285767\n",
      "EPOCH:2400  |       accuracy:34.2  |         train_loss:0.8798990845680237\n",
      "EPOCH:2500  |       accuracy:34.39  |         train_loss:0.8433012366294861\n",
      "EPOCH:2600  |       accuracy:34.47  |         train_loss:0.8070024251937866\n",
      "EPOCH:2700  |       accuracy:34.52  |         train_loss:0.7713742256164551\n",
      "EPOCH:2800  |       accuracy:34.59  |         train_loss:0.7361544966697693\n",
      "EPOCH:2900  |       accuracy:34.52  |         train_loss:0.7008607983589172\n",
      "EPOCH:3000  |       accuracy:34.55  |         train_loss:0.6651133298873901\n",
      "EPOCH:3100  |       accuracy:34.41  |         train_loss:0.62992262840271\n",
      "EPOCH:3200  |       accuracy:34.38  |         train_loss:0.5950259566307068\n",
      "EPOCH:3300  |       accuracy:34.15  |         train_loss:0.560811460018158\n",
      "EPOCH:3400  |       accuracy:34.13  |         train_loss:0.5267544984817505\n",
      "EPOCH:3500  |       accuracy:34.06  |         train_loss:0.4929210841655731\n",
      "EPOCH:3600  |       accuracy:34.05  |         train_loss:0.4590899646282196\n",
      "EPOCH:3700  |       accuracy:33.94  |         train_loss:0.4266052842140198\n",
      "EPOCH:3800  |       accuracy:33.74  |         train_loss:0.3956296443939209\n",
      "EPOCH:3900  |       accuracy:33.68  |         train_loss:0.3657402992248535\n",
      "EPOCH:4000  |       accuracy:33.47  |         train_loss:0.3370772898197174\n",
      "EPOCH:4100  |       accuracy:33.44  |         train_loss:0.30977383255958557\n",
      "EPOCH:4200  |       accuracy:33.35  |         train_loss:0.28391340374946594\n",
      "EPOCH:4300  |       accuracy:33.43  |         train_loss:0.25948378443717957\n",
      "EPOCH:4400  |       accuracy:33.36  |         train_loss:0.23634666204452515\n",
      "EPOCH:4500  |       accuracy:33.26  |         train_loss:0.2146553099155426\n",
      "EPOCH:4600  |       accuracy:33.25  |         train_loss:0.19406044483184814\n",
      "EPOCH:4700  |       accuracy:33.19  |         train_loss:0.17479149997234344\n",
      "EPOCH:4800  |       accuracy:33.06  |         train_loss:0.15697292983531952\n",
      "EPOCH:4900  |       accuracy:33.02  |         train_loss:0.14057253301143646\n",
      "EPOCH:5000  |       accuracy:32.98  |         train_loss:0.12548349797725677\n",
      "EPOCH:5100  |       accuracy:32.93  |         train_loss:0.11153906583786011\n",
      "EPOCH:5200  |       accuracy:32.92  |         train_loss:0.09890637546777725\n",
      "EPOCH:5300  |       accuracy:32.91  |         train_loss:0.08765694499015808\n",
      "EPOCH:5400  |       accuracy:32.94  |         train_loss:0.07763238251209259\n",
      "EPOCH:5500  |       accuracy:32.92  |         train_loss:0.068841852247715\n",
      "EPOCH:5600  |       accuracy:32.9  |         train_loss:0.06111728399991989\n",
      "EPOCH:5700  |       accuracy:32.96  |         train_loss:0.05432186275720596\n",
      "EPOCH:5800  |       accuracy:32.94  |         train_loss:0.04828587919473648\n",
      "EPOCH:5900  |       accuracy:32.92  |         train_loss:0.0430154986679554\n",
      "EPOCH:6000  |       accuracy:32.9  |         train_loss:0.03840461000800133\n",
      "EPOCH:6100  |       accuracy:32.9  |         train_loss:0.03434515371918678\n",
      "EPOCH:6200  |       accuracy:32.87  |         train_loss:0.03080633096396923\n",
      "EPOCH:6300  |       accuracy:32.84  |         train_loss:0.027701485902071\n",
      "EPOCH:6400  |       accuracy:32.84  |         train_loss:0.024971680715680122\n",
      "EPOCH:6500  |       accuracy:32.79  |         train_loss:0.02256709523499012\n",
      "EPOCH:6600  |       accuracy:32.77  |         train_loss:0.020436743274331093\n",
      "EPOCH:6700  |       accuracy:32.81  |         train_loss:0.018536539748311043\n",
      "EPOCH:6800  |       accuracy:32.86  |         train_loss:0.01684785820543766\n",
      "EPOCH:6900  |       accuracy:32.84  |         train_loss:0.015342006459832191\n",
      "EPOCH:7000  |       accuracy:32.81  |         train_loss:0.01399778202176094\n",
      "EPOCH:7100  |       accuracy:32.8  |         train_loss:0.012796113267540932\n",
      "EPOCH:7200  |       accuracy:32.81  |         train_loss:0.01171865127980709\n",
      "EPOCH:7300  |       accuracy:32.75  |         train_loss:0.010738219134509563\n",
      "EPOCH:7400  |       accuracy:32.75  |         train_loss:0.009858320467174053\n",
      "EPOCH:7500  |       accuracy:32.81  |         train_loss:0.009065649472177029\n",
      "EPOCH:7600  |       accuracy:32.83  |         train_loss:0.008346939459443092\n",
      "EPOCH:7700  |       accuracy:32.81  |         train_loss:0.007694080471992493\n",
      "EPOCH:7800  |       accuracy:32.77  |         train_loss:0.007099453825503588\n",
      "EPOCH:7900  |       accuracy:32.75  |         train_loss:0.006558278575539589\n",
      "EPOCH:8000  |       accuracy:32.71  |         train_loss:0.006062325090169907\n",
      "EPOCH:8100  |       accuracy:32.75  |         train_loss:0.005607896018773317\n",
      "EPOCH:8200  |       accuracy:32.73  |         train_loss:0.005192816723138094\n",
      "EPOCH:8300  |       accuracy:32.72  |         train_loss:0.004813529085367918\n",
      "EPOCH:8400  |       accuracy:32.73  |         train_loss:0.004466396290808916\n",
      "EPOCH:8500  |       accuracy:32.74  |         train_loss:0.004146840889006853\n",
      "EPOCH:8600  |       accuracy:32.75  |         train_loss:0.0038532584439963102\n",
      "EPOCH:8700  |       accuracy:32.73  |         train_loss:0.00358291482552886\n",
      "EPOCH:8800  |       accuracy:32.78  |         train_loss:0.003333077998831868\n",
      "EPOCH:8900  |       accuracy:32.82  |         train_loss:0.0031024322379380465\n",
      "EPOCH:9000  |       accuracy:32.84  |         train_loss:0.002889505820348859\n",
      "EPOCH:9100  |       accuracy:32.89  |         train_loss:0.0026928868610411882\n",
      "EPOCH:9200  |       accuracy:32.86  |         train_loss:0.0025110861752182245\n",
      "EPOCH:9300  |       accuracy:32.87  |         train_loss:0.002343010390177369\n",
      "EPOCH:9400  |       accuracy:32.88  |         train_loss:0.002187222009524703\n",
      "EPOCH:9500  |       accuracy:32.93  |         train_loss:0.002042774111032486\n",
      "EPOCH:9600  |       accuracy:32.9  |         train_loss:0.0019087763503193855\n",
      "EPOCH:9700  |       accuracy:32.89  |         train_loss:0.0017843679524958134\n",
      "EPOCH:9800  |       accuracy:32.87  |         train_loss:0.001668737269937992\n",
      "EPOCH:9900  |       accuracy:32.89  |         train_loss:0.0015612676506862044\n",
      "EPOCH:10000  |       accuracy:32.92  |         train_loss:0.0014610664220526814\n"
     ]
    }
   ],
   "source": [
    "# Training the network\n",
    "epochs = 10000\n",
    "val_acc_tl = []\n",
    "for e in range(1, epochs+1):\n",
    "  train_loss_epoch = 0\n",
    "  val_loss = 0\n",
    "  correct = 0\n",
    "  final_net.train()\n",
    "  for row, target in trainer:\n",
    "    # set the gradients to zero as PyTorch automatically accumulates gradients\n",
    "    optimizer.zero_grad()\n",
    "    outs = final_net(row)\n",
    "\n",
    "    # calculate loss\n",
    "    loss = err_func(outs, target)\n",
    "    \n",
    "    # Calculate gradients\n",
    "    loss.backward()\n",
    "    \n",
    "    # Propagate gradients back\n",
    "    optimizer.step()\n",
    "    \n",
    "    train_loss_epoch += loss.item()\n",
    "  if e%100 == 0:\n",
    "    final_net.eval()\n",
    "    with torch.no_grad():\n",
    "      for data, target in test_loader:\n",
    "\n",
    "          output = final_net(data)\n",
    "          val_loss += err_func(output, target).item()\n",
    "\n",
    "          # prediction will be the class with highest probability\n",
    "          pred = output.data.max(1, keepdim=True)[1]\n",
    "          correct += pred.eq(target.view_as(pred)).sum()\n",
    "    acc = 100 * torch.true_divide(correct, test_n)\n",
    "    val_acc_tl.append(acc.item())\n",
    "    err = train_loss_epoch/len(trainer)\n",
    "    \n",
    "    print(\"EPOCH:{eps}  |       accuracy:{acc}  |         train_loss:{ls}\".format(eps = e, acc = round(acc.item(), 4), ls=err))\n",
    "\n",
    "import pickle\n",
    "pickle.dump(val_acc_tl, open(\"val_acc_tl.pkl\", \"wb\" ) )"
   ]
  },
  {
   "cell_type": "code",
   "execution_count": 25,
   "metadata": {
    "colab": {
     "base_uri": "https://localhost:8080/",
     "height": 546
    },
    "id": "M9vBUWOs0W62",
    "outputId": "03e58619-9590-4dbf-8a92-747cc8bfecf8"
   },
   "outputs": [
    {
     "name": "stderr",
     "output_type": "stream",
     "text": [
      "No handles with labels found to put in legend.\n"
     ]
    },
    {
     "data": {
      "text/plain": [
       "<function matplotlib.pyplot.show>"
      ]
     },
     "execution_count": 25,
     "metadata": {
      "tags": []
     },
     "output_type": "execute_result"
    },
    {
     "data": {
      "image/png": "[encoded data removed]",
      "text/plain": [
       "<Figure size 1080x576 with 1 Axes>"
      ]
     },
     "metadata": {
      "needs_background": "light",
      "tags": []
     },
     "output_type": "display_data"
    }
   ],
   "source": [
    "eps = np.arange(1, 10001, 100)\n",
    "fig = plt.figure(figsize=(15,8))\n",
    "plt.plot(eps, val_acc_tl)\n",
    "plt.title(\"Accuracy for Transfer learning\")\n",
    "plt.ylabel(\"Accuracy\")\n",
    "plt.xlabel(\"Epochs\")\n",
    "plt.grid(True)\n",
    "plt.legend()\n",
    "plt.show"
   ]
  },
  {
   "cell_type": "code",
   "execution_count": 20,
   "metadata": {
    "id": "sN2avhjJUvCd"
   },
   "outputs": [],
   "source": [
    "import pickle\n",
    "val_acc_tl = pickle.load(open(\"val_acc_tl.pkl\", \"rb\" ))\n",
    "val_acc_base = pickle.load(open(\"val_acc_base.pkl\", \"rb\" ))"
   ]
  },
  {
   "cell_type": "code",
   "execution_count": 22,
   "metadata": {
    "colab": {
     "base_uri": "https://localhost:8080/",
     "height": 530
    },
    "id": "F4YJOa6UUv6a",
    "outputId": "7b0f2b45-b86e-4f18-e88e-3b71ce3c69b5"
   },
   "outputs": [
    {
     "data": {
      "text/plain": [
       "<function matplotlib.pyplot.show>"
      ]
     },
     "execution_count": 22,
     "metadata": {
      "tags": []
     },
     "output_type": "execute_result"
    },
    {
     "data": {
      "image/png": "[encoded data removed]",
      "text/plain": [
       "<Figure size 1080x576 with 1 Axes>"
      ]
     },
     "metadata": {
      "needs_background": "light",
      "tags": []
     },
     "output_type": "display_data"
    }
   ],
   "source": [
    "eps = np.arange(1, 10001, 100)\n",
    "fig = plt.figure(figsize=(15,8))\n",
    "plt.plot(eps, val_acc_tl, label=\"Transfer Learning\")\n",
    "plt.plot(eps, val_acc_base, label=\"Baseline\")\n",
    "plt.title(\"Baseline vs Transfer learning\")\n",
    "plt.ylabel(\"Accuracy\")\n",
    "plt.xlabel(\"Epochs\")\n",
    "plt.grid(True)\n",
    "plt.legend()\n",
    "plt.show"
   ]
  },
  {
   "cell_type": "markdown",
   "metadata": {
    "id": "GTZQO4siq6fm"
   },
   "source": [
    "As we can from the above plot that model trained using the concept of transfer learning performs better than the base line model. This is because we initialized the model parameters with the parameters of a classifier trained on a bogus data. This is called self-supervised learning."
   ]
  }
 ],
 "metadata": {
  "accelerator": "GPU",
  "colab": {
   "collapsed_sections": [],
   "name": "HW2_4.ipynb",
   "provenance": []
  },
  "kernelspec": {
   "display_name": "Python 3",
   "language": "python",
   "name": "python3"
  },
  "language_info": {
   "codemirror_mode": {
    "name": "ipython",
    "version": 3
   },
   "file_extension": ".py",
   "mimetype": "text/x-python",
   "name": "python",
   "nbconvert_exporter": "python",
   "pygments_lexer": "ipython3",
   "version": "3.7.3"
  }
 },
 "nbformat": 4,
 "nbformat_minor": 1
}
